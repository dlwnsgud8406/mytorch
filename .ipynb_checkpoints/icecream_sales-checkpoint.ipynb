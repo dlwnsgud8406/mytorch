{
 "cells": [
  {
   "cell_type": "code",
   "execution_count": 1,
   "metadata": {},
   "outputs": [],
   "source": [
    "import torch\n",
    "import pandas as pd\n",
    "import numpy as np\n",
    "import matplotlib.pyplot as plt"
   ]
  },
  {
   "cell_type": "code",
   "execution_count": 2,
   "metadata": {},
   "outputs": [],
   "source": [
    "df = pd.read_csv('icecream_sales.csv')"
   ]
  },
  {
   "cell_type": "code",
   "execution_count": 5,
   "metadata": {},
   "outputs": [],
   "source": [
    "x = df.loc[:, 'temp'].values\n",
    "y = df.loc[:, 'sales'].values\n",
    "\n",
    "xp = torch.from_numpy(x).float()\n",
    "yp = torch.from_numpy(y).float()"
   ]
  },
  {
   "cell_type": "code",
   "execution_count": 6,
   "metadata": {},
   "outputs": [
    {
     "name": "stdout",
     "output_type": "stream",
     "text": [
      "tensor([18., 25., 22., 31., 33., 29., 35., 30., 38., 33.])\n",
      "tensor([100., 187., 136., 259., 264., 210., 288., 234., 297., 271.])\n"
     ]
    }
   ],
   "source": [
    "print(xp)\n",
    "print(yp)"
   ]
  },
  {
   "cell_type": "code",
   "execution_count": 8,
   "metadata": {},
   "outputs": [],
   "source": [
    "xp = xp.view(len(xp),1)\n",
    "yp = yp.view(len(yp),1)"
   ]
  },
  {
   "cell_type": "code",
   "execution_count": 9,
   "metadata": {},
   "outputs": [],
   "source": [
    "class linearRegression(torch.nn.Module):\n",
    "    def __init__(self, inputSize, outputSize):\n",
    "        super(linearRegression, self).__init__()\n",
    "        self.linear = torch.nn.Linear(inputSize, outputSize)\n",
    "\n",
    "    def forward(self, x):\n",
    "        out = self.linear(x)\n",
    "        return out"
   ]
  },
  {
   "cell_type": "code",
   "execution_count": 19,
   "metadata": {},
   "outputs": [],
   "source": [
    "inputDim = 1        # takes variable 'x'\n",
    "outputDim = 1       # takes variable 'y'\n",
    "learningRate = 0.02\n",
    "epochs = 100\n",
    "\n",
    "model = linearRegression(inputDim, outputDim)"
   ]
  },
  {
   "cell_type": "code",
   "execution_count": 20,
   "metadata": {},
   "outputs": [],
   "source": [
    "criterion = torch.nn.MSELoss()\n",
    "optimizer = torch.optim.Adam(model.parameters(), lr=learningRate)"
   ]
  },
  {
   "cell_type": "code",
   "execution_count": 21,
   "metadata": {},
   "outputs": [
    {
     "name": "stdout",
     "output_type": "stream",
     "text": [
      "epoch:  0  , loss:  64000.51953125\n",
      "epoch:  1  , loss:  63688.8125\n",
      "epoch:  2  , loss:  63377.88671875\n",
      "epoch:  3  , loss:  63067.7578125\n",
      "epoch:  4  , loss:  62758.44921875\n",
      "epoch:  5  , loss:  62449.95703125\n",
      "epoch:  6  , loss:  62142.3125\n",
      "epoch:  7  , loss:  61835.51171875\n",
      "epoch:  8  , loss:  61529.5703125\n",
      "epoch:  9  , loss:  61224.51171875\n",
      "epoch:  10  , loss:  60920.3359375\n",
      "epoch:  11  , loss:  60617.0703125\n",
      "epoch:  12  , loss:  60314.69921875\n",
      "epoch:  13  , loss:  60013.2578125\n",
      "epoch:  14  , loss:  59712.73828125\n",
      "epoch:  15  , loss:  59413.1640625\n",
      "epoch:  16  , loss:  59114.5234375\n",
      "epoch:  17  , loss:  58816.8515625\n",
      "epoch:  18  , loss:  58520.13671875\n",
      "epoch:  19  , loss:  58224.4140625\n",
      "epoch:  20  , loss:  57929.6640625\n",
      "epoch:  21  , loss:  57635.89453125\n",
      "epoch:  22  , loss:  57343.1328125\n",
      "epoch:  23  , loss:  57051.36328125\n",
      "epoch:  24  , loss:  56760.60546875\n",
      "epoch:  25  , loss:  56470.86328125\n",
      "epoch:  26  , loss:  56182.13671875\n",
      "epoch:  27  , loss:  55894.4296875\n",
      "epoch:  28  , loss:  55607.75\n",
      "epoch:  29  , loss:  55322.10546875\n",
      "epoch:  30  , loss:  55037.5078125\n",
      "epoch:  31  , loss:  54753.9296875\n",
      "epoch:  32  , loss:  54471.3984375\n",
      "epoch:  33  , loss:  54189.91796875\n",
      "epoch:  34  , loss:  53909.48046875\n",
      "epoch:  35  , loss:  53630.0859375\n",
      "epoch:  36  , loss:  53351.75\n",
      "epoch:  37  , loss:  53074.4609375\n",
      "epoch:  38  , loss:  52798.2265625\n",
      "epoch:  39  , loss:  52523.05078125\n",
      "epoch:  40  , loss:  52248.91796875\n",
      "epoch:  41  , loss:  51975.84765625\n",
      "epoch:  42  , loss:  51703.828125\n",
      "epoch:  43  , loss:  51432.8671875\n",
      "epoch:  44  , loss:  51162.9609375\n",
      "epoch:  45  , loss:  50894.109375\n",
      "epoch:  46  , loss:  50626.3203125\n",
      "epoch:  47  , loss:  50359.57421875\n",
      "epoch:  48  , loss:  50093.8828125\n",
      "epoch:  49  , loss:  49829.2421875\n",
      "epoch:  50  , loss:  49565.66015625\n",
      "epoch:  51  , loss:  49303.12890625\n",
      "epoch:  52  , loss:  49041.64453125\n",
      "epoch:  53  , loss:  48781.19921875\n",
      "epoch:  54  , loss:  48521.8125\n",
      "epoch:  55  , loss:  48263.4609375\n",
      "epoch:  56  , loss:  48006.1640625\n",
      "epoch:  57  , loss:  47749.8984375\n",
      "epoch:  58  , loss:  47494.6796875\n",
      "epoch:  59  , loss:  47240.4921875\n",
      "epoch:  60  , loss:  46987.34765625\n",
      "epoch:  61  , loss:  46735.23046875\n",
      "epoch:  62  , loss:  46484.14453125\n",
      "epoch:  63  , loss:  46234.09765625\n",
      "epoch:  64  , loss:  45985.0703125\n",
      "epoch:  65  , loss:  45737.07421875\n",
      "epoch:  66  , loss:  45490.1015625\n",
      "epoch:  67  , loss:  45244.1484375\n",
      "epoch:  68  , loss:  44999.2109375\n",
      "epoch:  69  , loss:  44755.3046875\n",
      "epoch:  70  , loss:  44512.38671875\n",
      "epoch:  71  , loss:  44270.5078125\n",
      "epoch:  72  , loss:  44029.625\n",
      "epoch:  73  , loss:  43789.75\n",
      "epoch:  74  , loss:  43550.890625\n",
      "epoch:  75  , loss:  43313.0234375\n",
      "epoch:  76  , loss:  43076.1640625\n",
      "epoch:  77  , loss:  42840.296875\n",
      "epoch:  78  , loss:  42605.4296875\n",
      "epoch:  79  , loss:  42371.5546875\n",
      "epoch:  80  , loss:  42138.67578125\n",
      "epoch:  81  , loss:  41906.7734375\n",
      "epoch:  82  , loss:  41675.8671875\n",
      "epoch:  83  , loss:  41445.9375\n",
      "epoch:  84  , loss:  41216.98828125\n",
      "epoch:  85  , loss:  40989.0234375\n",
      "epoch:  86  , loss:  40762.02734375\n",
      "epoch:  87  , loss:  40536.01171875\n",
      "epoch:  88  , loss:  40310.96484375\n",
      "epoch:  89  , loss:  40086.8828125\n",
      "epoch:  90  , loss:  39863.76953125\n",
      "epoch:  91  , loss:  39641.62109375\n",
      "epoch:  92  , loss:  39420.43359375\n",
      "epoch:  93  , loss:  39200.203125\n",
      "epoch:  94  , loss:  38980.921875\n",
      "epoch:  95  , loss:  38762.6015625\n",
      "epoch:  96  , loss:  38545.2265625\n",
      "epoch:  97  , loss:  38328.80078125\n",
      "epoch:  98  , loss:  38113.3203125\n",
      "epoch:  99  , loss:  37898.7890625\n"
     ]
    }
   ],
   "source": [
    "losses = []\n",
    "final_loss= 0\n",
    "for epoch in range(epochs):\n",
    "\n",
    "    # get output from the model, given the inputs\n",
    "    y_pred = model(xp)\n",
    "\n",
    "    # get loss for the predicted output\n",
    "    loss = criterion(y_pred, yp)\n",
    "\n",
    "    losses.append(loss.item())\n",
    "\n",
    "    # Clear gradient buffers because we don't want any gradient from previous epoch to carry forward, dont want to cummulate gradients\n",
    "    optimizer.zero_grad()\n",
    "\n",
    "    # get gradients w.r.t to parameters\n",
    "    loss.backward()\n",
    "\n",
    "    final_loss = loss.item()\n",
    "\n",
    "    # update parameters\n",
    "    optimizer.step()\n",
    "\n",
    "    print('epoch: ', epoch, ' , loss: ', loss.item())"
   ]
  },
  {
   "cell_type": "code",
   "execution_count": 22,
   "metadata": {},
   "outputs": [
    {
     "data": {
      "text/plain": [
       "range(0, 100)"
      ]
     },
     "execution_count": 22,
     "metadata": {},
     "output_type": "execute_result"
    }
   ],
   "source": [
    "range(epochs)"
   ]
  },
  {
   "cell_type": "code",
   "execution_count": 23,
   "metadata": {},
   "outputs": [
    {
     "data": {
      "text/plain": [
       "Text(0.5, 0, 'epochs')"
      ]
     },
     "execution_count": 23,
     "metadata": {},
     "output_type": "execute_result"
    },
    {
     "data": {
      "image/png": "[encoded data removed]",
      "text/plain": [
       "<Figure size 432x288 with 1 Axes>"
      ]
     },
     "metadata": {
      "needs_background": "light"
     },
     "output_type": "display_data"
    }
   ],
   "source": [
    "plt.plot(range(epochs), losses)\n",
    "plt.ylabel('loss')\n",
    "plt.xlabel('epochs')"
   ]
  },
  {
   "cell_type": "code",
   "execution_count": 24,
   "metadata": {},
   "outputs": [
    {
     "data": {
      "text/plain": [
       "37898.7890625"
      ]
     },
     "execution_count": 24,
     "metadata": {},
     "output_type": "execute_result"
    }
   ],
   "source": [
    "final_loss"
   ]
  },
  {
   "cell_type": "code",
   "execution_count": 25,
   "metadata": {},
   "outputs": [],
   "source": [
    "y_pred = model(xp)"
   ]
  },
  {
   "cell_type": "code",
   "execution_count": 26,
   "metadata": {},
   "outputs": [
    {
     "data": {
      "text/plain": [
       "Text(0, 0.5, 'sale')"
      ]
     },
     "execution_count": 26,
     "metadata": {},
     "output_type": "execute_result"
    },
    {
     "data": {
      "image/png": "[encoded data removed]",
      "text/plain": [
       "<Figure size 432x288 with 1 Axes>"
      ]
     },
     "metadata": {
      "needs_background": "light"
     },
     "output_type": "display_data"
    }
   ],
   "source": [
    "plt.scatter(xp.cpu(),yp.cpu())\n",
    "plt.plot(xp.cpu(),y_pred.detach().cpu(),'r')\n",
    "plt.xlabel('temp')\n",
    "plt.ylabel('sale')"
   ]
  },
  {
   "cell_type": "code",
   "execution_count": null,
   "metadata": {},
   "outputs": [],
   "source": []
  },
  {
   "cell_type": "code",
   "execution_count": null,
   "metadata": {},
   "outputs": [],
   "source": []
  },
  {
   "cell_type": "code",
   "execution_count": null,
   "metadata": {},
   "outputs": [],
   "source": []
  }
 ],
 "metadata": {
  "kernelspec": {
   "display_name": "Python 3 (ipykernel)",
   "language": "python",
   "name": "python3"
  },
  "language_info": {
   "codemirror_mode": {
    "name": "ipython",
    "version": 3
   },
   "file_extension": ".py",
   "mimetype": "text/x-python",
   "name": "python",
   "nbconvert_exporter": "python",
   "pygments_lexer": "ipython3",
   "version": "3.7.9"
  }
 },
 "nbformat": 4,
 "nbformat_minor": 2
}
